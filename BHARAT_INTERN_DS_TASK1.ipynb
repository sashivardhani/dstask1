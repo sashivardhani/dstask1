{
  "nbformat": 4,
  "nbformat_minor": 0,
  "metadata": {
    "colab": {
      "provenance": [],
      "authorship_tag": "ABX9TyPv3QVxvg11GrQQnrVkQD8K",
      "include_colab_link": true
    },
    "kernelspec": {
      "name": "python3",
      "display_name": "Python 3"
    },
    "language_info": {
      "name": "python"
    }
  },
  "cells": [
    {
      "cell_type": "markdown",
      "metadata": {
        "id": "view-in-github",
        "colab_type": "text"
      },
      "source": [
        "<a href=\"https://colab.research.google.com/github/sashivardhani/dstask1/blob/main/BHARAT_INTERN_DS_TASK1.ipynb\" target=\"_parent\"><img src=\"https://colab.research.google.com/assets/colab-badge.svg\" alt=\"Open In Colab\"/></a>"
      ]
    },
    {
      "cell_type": "code",
      "execution_count": null,
      "metadata": {
        "id": "xEn4wH4BEBO9"
      },
      "outputs": [],
      "source": [
        "import os\n",
        "import numpy as np\n",
        "import pandas as pd\n",
        "import matplotlib.pyplot as plt\n",
        "from keras.models import Sequential\n",
        "from keras.layers import Dense\n",
        "from keras.layers import LSTM\n",
        "from keras.layers import Dropout\n",
        "from sklearn.preprocessing import MinMaxScaler"
      ]
    },
    {
      "cell_type": "code",
      "source": [
        "dataset=pd.read_csv('NFLX.csv')"
      ],
      "metadata": {
        "id": "0FmplSUxEiKr"
      },
      "execution_count": null,
      "outputs": []
    },
    {
      "cell_type": "code",
      "source": [
        "dataset_train=dataset.iloc[-1000:-100]\n",
        "dataset_test=dataset.iloc[-100:]\n",
        "print(dataset_train.columns.tolist())\n",
        "print(dataset_test.columns.tolist())"
      ],
      "metadata": {
        "colab": {
          "base_uri": "https://localhost:8080/"
        },
        "id": "BCNH42xREojw",
        "outputId": "e5cddf99-84e4-49df-ffb6-87918f87e131"
      },
      "execution_count": null,
      "outputs": [
        {
          "output_type": "stream",
          "name": "stdout",
          "text": [
            "['Date', 'Open', 'High', 'Low', 'Close', 'Adj Close', 'Volume']\n",
            "['Date', 'Open', 'High', 'Low', 'Close', 'Adj Close', 'Volume']\n"
          ]
        }
      ]
    },
    {
      "cell_type": "code",
      "source": [
        "trainset = dataset_train.iloc[:,1:2].values #Open\n",
        "display(trainset[0:5])"
      ],
      "metadata": {
        "colab": {
          "base_uri": "https://localhost:8080/",
          "height": 104
        },
        "id": "nWnksnm7Etoo",
        "outputId": "754cc6b7-7c79-4bcd-d53f-794f90619959"
      },
      "execution_count": null,
      "outputs": [
        {
          "output_type": "display_data",
          "data": {
            "text/plain": [
              "array([[278.730011],\n",
              "       [277.73999 ],\n",
              "       [282.070007],\n",
              "       [283.880005],\n",
              "       [281.      ]])"
            ]
          },
          "metadata": {}
        }
      ]
    },
    {
      "cell_type": "code",
      "source": [
        "sc = MinMaxScaler(feature_range = (0,1))\n",
        "training_scaled = sc.fit_transform(trainset)\n",
        "print(training_scaled[0:5])\n",
        "print(len(training_scaled))"
      ],
      "metadata": {
        "colab": {
          "base_uri": "https://localhost:8080/"
        },
        "id": "IDN4V439Eueo",
        "outputId": "872ed565-6dfe-4ad8-f832-6e941d690db1"
      },
      "execution_count": null,
      "outputs": [
        {
          "output_type": "stream",
          "name": "stdout",
          "text": [
            "[[0.1202792 ]\n",
            " [0.11762178]\n",
            " [0.12924443]\n",
            " [0.13410283]\n",
            " [0.12637231]]\n",
            "900\n"
          ]
        }
      ]
    },
    {
      "cell_type": "code",
      "source": [
        "x_train = []\n",
        "y_train = []\n"
      ],
      "metadata": {
        "id": "LTSqqoB3ExCi"
      },
      "execution_count": null,
      "outputs": []
    },
    {
      "cell_type": "code",
      "source": [
        "for i in range(60,len(training_scaled)):\n",
        "    x_train.append(training_scaled[i-60:i, 0])\n",
        "    y_train.append(training_scaled[i,0])\n",
        "x_train,y_train = np.array(x_train),np.array(y_train)\n",
        "print(x_train.shape,y_train.shape)"
      ],
      "metadata": {
        "colab": {
          "base_uri": "https://localhost:8080/"
        },
        "id": "V05ULPBnEz4Z",
        "outputId": "be2d8dee-d1f4-4d3d-f335-a9470530f5e3"
      },
      "execution_count": null,
      "outputs": [
        {
          "output_type": "stream",
          "name": "stdout",
          "text": [
            "(840, 60) (840,)\n"
          ]
        }
      ]
    },
    {
      "cell_type": "code",
      "source": [
        "x_train = np.reshape(x_train, (x_train.shape[0],x_train.shape[1],1))\n",
        "print('(samples, time steps, features) =',x_train.shape)"
      ],
      "metadata": {
        "colab": {
          "base_uri": "https://localhost:8080/"
        },
        "id": "1eobkb8qE14M",
        "outputId": "9e7243e7-b931-489a-8b48-d91f5455bea3"
      },
      "execution_count": null,
      "outputs": [
        {
          "output_type": "stream",
          "name": "stdout",
          "text": [
            "(samples, time steps, features) = (840, 60, 1)\n"
          ]
        }
      ]
    },
    {
      "cell_type": "code",
      "source": [
        "regressor = Sequential()\n",
        "regressor.add(LSTM(units = 50,return_sequences = True,input_shape = (x_train.shape[1],1)))\n",
        "regressor.add(Dropout(0.2))\n",
        "regressor.add(LSTM(units = 50,return_sequences = True))\n",
        "regressor.add(Dropout(0.2))\n",
        "regressor.add(LSTM(units = 50,return_sequences = True))\n",
        "regressor.add(Dropout(0.2))\n",
        "regressor.add(LSTM(units = 50))\n",
        "regressor.add(Dropout(0.2))\n",
        "regressor.add(Dense(units = 1))\n"
      ],
      "metadata": {
        "id": "gPC1DCQhE3A6"
      },
      "execution_count": null,
      "outputs": []
    },
    {
      "cell_type": "code",
      "source": [
        "regressor.compile(optimizer = 'adam',loss = 'mean_squared_error')\n",
        "\n",
        "regressor.fit(x_train,y_train,epochs =100, batch_size = 32)"
      ],
      "metadata": {
        "colab": {
          "base_uri": "https://localhost:8080/"
        },
        "id": "NIiP8Z0UE7eI",
        "outputId": "958e7ee2-dbc5-4c1d-82ff-ed15aafab7ad"
      },
      "execution_count": null,
      "outputs": [
        {
          "output_type": "stream",
          "name": "stdout",
          "text": [
            "Epoch 1/100\n",
            "27/27 [==============================] - 9s 118ms/step - loss: 0.0451\n",
            "Epoch 2/100\n",
            "27/27 [==============================] - 2s 81ms/step - loss: 0.0108\n",
            "Epoch 3/100\n",
            "27/27 [==============================] - 2s 82ms/step - loss: 0.0096\n",
            "Epoch 4/100\n",
            "27/27 [==============================] - 2s 81ms/step - loss: 0.0080\n",
            "Epoch 5/100\n",
            "27/27 [==============================] - 3s 94ms/step - loss: 0.0082\n",
            "Epoch 6/100\n",
            "27/27 [==============================] - 3s 116ms/step - loss: 0.0076\n",
            "Epoch 7/100\n",
            "27/27 [==============================] - 2s 83ms/step - loss: 0.0077\n",
            "Epoch 8/100\n",
            "27/27 [==============================] - 2s 81ms/step - loss: 0.0076\n",
            "Epoch 9/100\n",
            "27/27 [==============================] - 2s 81ms/step - loss: 0.0081\n",
            "Epoch 10/100\n",
            "27/27 [==============================] - 2s 82ms/step - loss: 0.0070\n",
            "Epoch 11/100\n",
            "27/27 [==============================] - 3s 101ms/step - loss: 0.0062\n",
            "Epoch 12/100\n",
            "27/27 [==============================] - 2s 81ms/step - loss: 0.0065\n",
            "Epoch 13/100\n",
            "27/27 [==============================] - 2s 81ms/step - loss: 0.0062\n",
            "Epoch 14/100\n",
            "27/27 [==============================] - 2s 82ms/step - loss: 0.0073\n",
            "Epoch 15/100\n",
            "27/27 [==============================] - 2s 80ms/step - loss: 0.0062\n",
            "Epoch 16/100\n",
            "27/27 [==============================] - 3s 103ms/step - loss: 0.0057\n",
            "Epoch 17/100\n",
            "27/27 [==============================] - 2s 93ms/step - loss: 0.0059\n",
            "Epoch 18/100\n",
            "27/27 [==============================] - 2s 81ms/step - loss: 0.0055\n",
            "Epoch 19/100\n",
            "27/27 [==============================] - 2s 82ms/step - loss: 0.0057\n",
            "Epoch 20/100\n",
            "27/27 [==============================] - 2s 81ms/step - loss: 0.0055\n",
            "Epoch 21/100\n",
            "27/27 [==============================] - 3s 103ms/step - loss: 0.0054\n",
            "Epoch 22/100\n",
            "27/27 [==============================] - 2s 82ms/step - loss: 0.0053\n",
            "Epoch 23/100\n",
            "27/27 [==============================] - 2s 83ms/step - loss: 0.0050\n",
            "Epoch 24/100\n",
            "27/27 [==============================] - 2s 81ms/step - loss: 0.0057\n",
            "Epoch 25/100\n",
            "27/27 [==============================] - 2s 81ms/step - loss: 0.0053\n",
            "Epoch 26/100\n",
            "27/27 [==============================] - 3s 101ms/step - loss: 0.0044\n",
            "Epoch 27/100\n",
            "27/27 [==============================] - 2s 81ms/step - loss: 0.0056\n",
            "Epoch 28/100\n",
            "27/27 [==============================] - 2s 81ms/step - loss: 0.0052\n",
            "Epoch 29/100\n",
            "27/27 [==============================] - 2s 80ms/step - loss: 0.0049\n",
            "Epoch 30/100\n",
            "27/27 [==============================] - 2s 81ms/step - loss: 0.0050\n",
            "Epoch 31/100\n",
            "27/27 [==============================] - 3s 96ms/step - loss: 0.0050\n",
            "Epoch 32/100\n",
            "27/27 [==============================] - 2s 87ms/step - loss: 0.0044\n",
            "Epoch 33/100\n",
            "27/27 [==============================] - 2s 79ms/step - loss: 0.0044\n",
            "Epoch 34/100\n",
            "27/27 [==============================] - 2s 81ms/step - loss: 0.0042\n",
            "Epoch 35/100\n",
            "27/27 [==============================] - 2s 82ms/step - loss: 0.0048\n",
            "Epoch 36/100\n",
            "27/27 [==============================] - 2s 91ms/step - loss: 0.0046\n",
            "Epoch 37/100\n",
            "27/27 [==============================] - 2s 91ms/step - loss: 0.0039\n",
            "Epoch 38/100\n",
            "27/27 [==============================] - 2s 82ms/step - loss: 0.0042\n",
            "Epoch 39/100\n",
            "27/27 [==============================] - 2s 82ms/step - loss: 0.0042\n",
            "Epoch 40/100\n",
            "27/27 [==============================] - 2s 81ms/step - loss: 0.0046\n",
            "Epoch 41/100\n",
            "27/27 [==============================] - 2s 86ms/step - loss: 0.0047\n",
            "Epoch 42/100\n",
            "27/27 [==============================] - 3s 96ms/step - loss: 0.0044\n",
            "Epoch 43/100\n",
            "27/27 [==============================] - 2s 80ms/step - loss: 0.0038\n",
            "Epoch 44/100\n",
            "27/27 [==============================] - 2s 81ms/step - loss: 0.0046\n",
            "Epoch 45/100\n",
            "27/27 [==============================] - 2s 81ms/step - loss: 0.0038\n",
            "Epoch 46/100\n",
            "27/27 [==============================] - 2s 80ms/step - loss: 0.0037\n",
            "Epoch 47/100\n",
            "27/27 [==============================] - 3s 102ms/step - loss: 0.0036\n",
            "Epoch 48/100\n",
            "27/27 [==============================] - 2s 82ms/step - loss: 0.0036\n",
            "Epoch 49/100\n",
            "27/27 [==============================] - 2s 81ms/step - loss: 0.0036\n",
            "Epoch 50/100\n",
            "27/27 [==============================] - 2s 82ms/step - loss: 0.0034\n",
            "Epoch 51/100\n",
            "27/27 [==============================] - 2s 81ms/step - loss: 0.0033\n",
            "Epoch 52/100\n",
            "27/27 [==============================] - 3s 103ms/step - loss: 0.0033\n",
            "Epoch 53/100\n",
            "27/27 [==============================] - 2s 80ms/step - loss: 0.0033\n",
            "Epoch 54/100\n",
            "27/27 [==============================] - 2s 80ms/step - loss: 0.0033\n",
            "Epoch 55/100\n",
            "27/27 [==============================] - 2s 80ms/step - loss: 0.0033\n",
            "Epoch 56/100\n",
            "27/27 [==============================] - 2s 80ms/step - loss: 0.0034\n",
            "Epoch 57/100\n",
            "27/27 [==============================] - 3s 103ms/step - loss: 0.0032\n",
            "Epoch 58/100\n",
            "27/27 [==============================] - 2s 81ms/step - loss: 0.0032\n",
            "Epoch 59/100\n",
            "27/27 [==============================] - 2s 81ms/step - loss: 0.0030\n",
            "Epoch 60/100\n",
            "27/27 [==============================] - 2s 81ms/step - loss: 0.0032\n",
            "Epoch 61/100\n",
            "27/27 [==============================] - 2s 81ms/step - loss: 0.0035\n",
            "Epoch 62/100\n",
            "27/27 [==============================] - 3s 104ms/step - loss: 0.0034\n",
            "Epoch 63/100\n",
            "27/27 [==============================] - 2s 81ms/step - loss: 0.0026\n",
            "Epoch 64/100\n",
            "27/27 [==============================] - 2s 82ms/step - loss: 0.0028\n",
            "Epoch 65/100\n",
            "27/27 [==============================] - 2s 81ms/step - loss: 0.0029\n",
            "Epoch 66/100\n",
            "27/27 [==============================] - 2s 81ms/step - loss: 0.0028\n",
            "Epoch 67/100\n",
            "27/27 [==============================] - 3s 99ms/step - loss: 0.0026\n",
            "Epoch 68/100\n",
            "27/27 [==============================] - 2s 82ms/step - loss: 0.0025\n",
            "Epoch 69/100\n",
            "27/27 [==============================] - 2s 80ms/step - loss: 0.0028\n",
            "Epoch 70/100\n",
            "27/27 [==============================] - 2s 82ms/step - loss: 0.0026\n",
            "Epoch 71/100\n",
            "27/27 [==============================] - 2s 79ms/step - loss: 0.0026\n",
            "Epoch 72/100\n",
            "27/27 [==============================] - 3s 95ms/step - loss: 0.0027\n",
            "Epoch 73/100\n",
            "27/27 [==============================] - 2s 88ms/step - loss: 0.0025\n",
            "Epoch 74/100\n",
            "27/27 [==============================] - 2s 82ms/step - loss: 0.0024\n",
            "Epoch 75/100\n",
            "27/27 [==============================] - 2s 82ms/step - loss: 0.0023\n",
            "Epoch 76/100\n",
            "27/27 [==============================] - 2s 81ms/step - loss: 0.0024\n",
            "Epoch 77/100\n",
            "27/27 [==============================] - 2s 91ms/step - loss: 0.0022\n",
            "Epoch 78/100\n",
            "27/27 [==============================] - 2s 91ms/step - loss: 0.0024\n",
            "Epoch 79/100\n",
            "27/27 [==============================] - 2s 82ms/step - loss: 0.0025\n",
            "Epoch 80/100\n",
            "27/27 [==============================] - 2s 81ms/step - loss: 0.0024\n",
            "Epoch 81/100\n",
            "27/27 [==============================] - 2s 79ms/step - loss: 0.0026\n",
            "Epoch 82/100\n",
            "27/27 [==============================] - 2s 85ms/step - loss: 0.0024\n",
            "Epoch 83/100\n",
            "27/27 [==============================] - 3s 97ms/step - loss: 0.0023\n",
            "Epoch 84/100\n",
            "27/27 [==============================] - 2s 82ms/step - loss: 0.0023\n",
            "Epoch 85/100\n",
            "27/27 [==============================] - 2s 80ms/step - loss: 0.0023\n",
            "Epoch 86/100\n",
            "27/27 [==============================] - 2s 82ms/step - loss: 0.0022\n",
            "Epoch 87/100\n",
            "27/27 [==============================] - 2s 81ms/step - loss: 0.0025\n",
            "Epoch 88/100\n",
            "27/27 [==============================] - 3s 101ms/step - loss: 0.0023\n",
            "Epoch 89/100\n",
            "27/27 [==============================] - 2s 82ms/step - loss: 0.0026\n",
            "Epoch 90/100\n",
            "27/27 [==============================] - 2s 83ms/step - loss: 0.0021\n",
            "Epoch 91/100\n",
            "27/27 [==============================] - 2s 82ms/step - loss: 0.0024\n",
            "Epoch 92/100\n",
            "27/27 [==============================] - 2s 82ms/step - loss: 0.0022\n",
            "Epoch 93/100\n",
            "27/27 [==============================] - 3s 102ms/step - loss: 0.0019\n",
            "Epoch 94/100\n",
            "27/27 [==============================] - 2s 81ms/step - loss: 0.0021\n",
            "Epoch 95/100\n",
            "27/27 [==============================] - 2s 81ms/step - loss: 0.0024\n",
            "Epoch 96/100\n",
            "27/27 [==============================] - 2s 80ms/step - loss: 0.0021\n",
            "Epoch 97/100\n",
            "27/27 [==============================] - 2s 81ms/step - loss: 0.0022\n",
            "Epoch 98/100\n",
            "27/27 [==============================] - 3s 103ms/step - loss: 0.0019\n",
            "Epoch 99/100\n",
            "27/27 [==============================] - 2s 82ms/step - loss: 0.0020\n",
            "Epoch 100/100\n",
            "27/27 [==============================] - 2s 81ms/step - loss: 0.0022\n"
          ]
        },
        {
          "output_type": "execute_result",
          "data": {
            "text/plain": [
              "<keras.callbacks.History at 0x7cde95bb8b50>"
            ]
          },
          "metadata": {},
          "execution_count": 10
        }
      ]
    },
    {
      "cell_type": "code",
      "source": [
        "real_stock_price = dataset_test.iloc[:,1:2].values\n",
        "dataset_total = pd.concat((dataset_train['Open'],dataset_test['Open']),axis = 0)\n"
      ],
      "metadata": {
        "id": "TFP_wdQ3E8Ua"
      },
      "execution_count": null,
      "outputs": []
    },
    {
      "cell_type": "code",
      "source": [
        "print(len(dataset_total),len(dataset_test))\n",
        "inputs = dataset_total[len(dataset_total)-len(dataset_test)-60:].values\n",
        "print(inputs.shape)"
      ],
      "metadata": {
        "colab": {
          "base_uri": "https://localhost:8080/"
        },
        "id": "fnBuhRwPFAOi",
        "outputId": "290db871-d323-46c9-a9ba-0392e007b45a"
      },
      "execution_count": null,
      "outputs": [
        {
          "output_type": "stream",
          "name": "stdout",
          "text": [
            "1000 100\n",
            "(160,)\n"
          ]
        }
      ]
    },
    {
      "cell_type": "code",
      "source": [
        "inputs = inputs.reshape(-1,1)\n",
        "print(inputs.shape)\n",
        "#sc = MinMaxScaler(feature_range = (0,1))\n",
        "inputs = sc.transform(inputs)\n",
        "print(inputs.shape)"
      ],
      "metadata": {
        "colab": {
          "base_uri": "https://localhost:8080/"
        },
        "id": "MbIEMDdSFD6-",
        "outputId": "03c3ef9a-5e0f-4a01-a8b0-eb064876eefb"
      },
      "execution_count": null,
      "outputs": [
        {
          "output_type": "stream",
          "name": "stdout",
          "text": [
            "(160, 1)\n",
            "(160, 1)\n"
          ]
        }
      ]
    },
    {
      "cell_type": "code",
      "source": [
        "x_test = []\n",
        "for i in range(60,len(inputs)):\n",
        "    x_test.append(inputs[i-60:i,0])\n",
        "x_test = np.array(x_test)\n",
        "print(x_test.shape)\n",
        "\n",
        "x_test = np.reshape(x_test, (x_test.shape[0],x_test.shape[1],1))\n",
        "print(x_test.shape)"
      ],
      "metadata": {
        "colab": {
          "base_uri": "https://localhost:8080/"
        },
        "id": "0oHvPLaCFJLx",
        "outputId": "2e95a148-3fe0-4d5d-b479-89aac38f9dec"
      },
      "execution_count": null,
      "outputs": [
        {
          "output_type": "stream",
          "name": "stdout",
          "text": [
            "(100, 60)\n",
            "(100, 60, 1)\n"
          ]
        }
      ]
    },
    {
      "cell_type": "code",
      "source": [
        "predicted_price = regressor.predict(x_test)"
      ],
      "metadata": {
        "colab": {
          "base_uri": "https://localhost:8080/"
        },
        "id": "ZwDJ2TgeFLtW",
        "outputId": "d411ce2d-2397-4d4d-d4a3-2b0df6741be2"
      },
      "execution_count": null,
      "outputs": [
        {
          "output_type": "stream",
          "name": "stdout",
          "text": [
            "4/4 [==============================] - 1s 17ms/step\n"
          ]
        }
      ]
    },
    {
      "cell_type": "code",
      "source": [
        "predicted_price = sc.inverse_transform(predicted_price)\n",
        "print(predicted_price.shape)"
      ],
      "metadata": {
        "colab": {
          "base_uri": "https://localhost:8080/"
        },
        "id": "AMh3HEVLFOtp",
        "outputId": "bc94a0f9-3b1c-441b-8775-0ce46de6f61c"
      },
      "execution_count": null,
      "outputs": [
        {
          "output_type": "stream",
          "name": "stdout",
          "text": [
            "(100, 1)\n"
          ]
        }
      ]
    },
    {
      "cell_type": "code",
      "source": [
        "plt.plot(real_stock_price,color = 'red', label = 'Real Price')\n",
        "plt.plot(predicted_price, color = 'blue', label = 'Predicted Price')\n",
        "plt.title('NFLX Stock Price Prediction')\n",
        "plt.xlabel('Time')\n",
        "plt.ylabel('NFLX Stock Price')\n",
        "plt.xlim(0,100)\n",
        "plt.ylim(0,1200)\n",
        "plt.legend()\n",
        "plt.show()"
      ],
      "metadata": {
        "colab": {
          "base_uri": "https://localhost:8080/",
          "height": 472
        },
        "id": "aE54UNuOFQuu",
        "outputId": "a07c6468-289e-4247-9f6a-ca5323bce94f"
      },
      "execution_count": null,
      "outputs": [
        {
          "output_type": "display_data",
          "data": {
            "text/plain": [
              "<Figure size 640x480 with 1 Axes>"
            ],
            "image/png": "[encoded data removed]"
          },
          "metadata": {}
        }
      ]
    },
    {
      "cell_type": "code",
      "source": [
        "inputs = np.array(dataset_train['Open'][-60:])\n",
        "new_predicted_price=[]\n",
        "for i in range(100):\n",
        "    x = np.reshape(inputs, (1,60,1))\n",
        "    pred = regressor.predict(x)\n",
        "    inputs = np.append(inputs, pred)\n",
        "    inputs = inputs[1:]\n",
        "    new_predicted_price+=[pred.reshape(-1)]"
      ],
      "metadata": {
        "colab": {
          "base_uri": "https://localhost:8080/"
        },
        "id": "HVembY_UFTDD",
        "outputId": "96345223-65d6-481a-a567-7f88a18fbcbe"
      },
      "execution_count": null,
      "outputs": [
        {
          "output_type": "stream",
          "name": "stdout",
          "text": [
            "1/1 [==============================] - 0s 26ms/step\n",
            "1/1 [==============================] - 0s 23ms/step\n",
            "1/1 [==============================] - 0s 26ms/step\n",
            "1/1 [==============================] - 0s 23ms/step\n",
            "1/1 [==============================] - 0s 23ms/step\n",
            "1/1 [==============================] - 0s 24ms/step\n",
            "1/1 [==============================] - 0s 25ms/step\n",
            "1/1 [==============================] - 0s 22ms/step\n",
            "1/1 [==============================] - 0s 23ms/step\n",
            "1/1 [==============================] - 0s 24ms/step\n",
            "1/1 [==============================] - 0s 25ms/step\n",
            "1/1 [==============================] - 0s 24ms/step\n",
            "1/1 [==============================] - 0s 25ms/step\n",
            "1/1 [==============================] - 0s 23ms/step\n",
            "1/1 [==============================] - 0s 32ms/step\n",
            "1/1 [==============================] - 0s 38ms/step\n",
            "1/1 [==============================] - 0s 40ms/step\n",
            "1/1 [==============================] - 0s 39ms/step\n",
            "1/1 [==============================] - 0s 33ms/step\n",
            "1/1 [==============================] - 0s 33ms/step\n",
            "1/1 [==============================] - 0s 20ms/step\n",
            "1/1 [==============================] - 0s 20ms/step\n",
            "1/1 [==============================] - 0s 20ms/step\n",
            "1/1 [==============================] - 0s 22ms/step\n",
            "1/1 [==============================] - 0s 26ms/step\n",
            "1/1 [==============================] - 0s 22ms/step\n",
            "1/1 [==============================] - 0s 22ms/step\n",
            "1/1 [==============================] - 0s 20ms/step\n",
            "1/1 [==============================] - 0s 35ms/step\n",
            "1/1 [==============================] - 0s 25ms/step\n",
            "1/1 [==============================] - 0s 27ms/step\n",
            "1/1 [==============================] - 0s 25ms/step\n",
            "1/1 [==============================] - 0s 22ms/step\n",
            "1/1 [==============================] - 0s 24ms/step\n",
            "1/1 [==============================] - 0s 22ms/step\n",
            "1/1 [==============================] - 0s 21ms/step\n",
            "1/1 [==============================] - 0s 22ms/step\n",
            "1/1 [==============================] - 0s 22ms/step\n",
            "1/1 [==============================] - 0s 24ms/step\n",
            "1/1 [==============================] - 0s 22ms/step\n",
            "1/1 [==============================] - 0s 26ms/step\n",
            "1/1 [==============================] - 0s 23ms/step\n",
            "1/1 [==============================] - 0s 22ms/step\n",
            "1/1 [==============================] - 0s 24ms/step\n",
            "1/1 [==============================] - 0s 23ms/step\n",
            "1/1 [==============================] - 0s 28ms/step\n",
            "1/1 [==============================] - 0s 23ms/step\n",
            "1/1 [==============================] - 0s 23ms/step\n",
            "1/1 [==============================] - 0s 25ms/step\n",
            "1/1 [==============================] - 0s 21ms/step\n",
            "1/1 [==============================] - 0s 22ms/step\n",
            "1/1 [==============================] - 0s 23ms/step\n",
            "1/1 [==============================] - 0s 21ms/step\n",
            "1/1 [==============================] - 0s 23ms/step\n",
            "1/1 [==============================] - 0s 21ms/step\n",
            "1/1 [==============================] - 0s 23ms/step\n",
            "1/1 [==============================] - 0s 26ms/step\n",
            "1/1 [==============================] - 0s 24ms/step\n",
            "1/1 [==============================] - 0s 25ms/step\n",
            "1/1 [==============================] - 0s 25ms/step\n",
            "1/1 [==============================] - 0s 23ms/step\n",
            "1/1 [==============================] - 0s 22ms/step\n",
            "1/1 [==============================] - 0s 22ms/step\n",
            "1/1 [==============================] - 0s 31ms/step\n",
            "1/1 [==============================] - 0s 25ms/step\n",
            "1/1 [==============================] - 0s 26ms/step\n",
            "1/1 [==============================] - 0s 21ms/step\n",
            "1/1 [==============================] - 0s 24ms/step\n",
            "1/1 [==============================] - 0s 33ms/step\n",
            "1/1 [==============================] - 0s 22ms/step\n",
            "1/1 [==============================] - 0s 22ms/step\n",
            "1/1 [==============================] - 0s 24ms/step\n",
            "1/1 [==============================] - 0s 22ms/step\n",
            "1/1 [==============================] - 0s 26ms/step\n",
            "1/1 [==============================] - 0s 24ms/step\n",
            "1/1 [==============================] - 0s 20ms/step\n",
            "1/1 [==============================] - 0s 22ms/step\n",
            "1/1 [==============================] - 0s 21ms/step\n",
            "1/1 [==============================] - 0s 20ms/step\n",
            "1/1 [==============================] - 0s 21ms/step\n",
            "1/1 [==============================] - 0s 37ms/step\n",
            "1/1 [==============================] - 0s 25ms/step\n",
            "1/1 [==============================] - 0s 23ms/step\n",
            "1/1 [==============================] - 0s 23ms/step\n",
            "1/1 [==============================] - 0s 28ms/step\n",
            "1/1 [==============================] - 0s 22ms/step\n",
            "1/1 [==============================] - 0s 25ms/step\n",
            "1/1 [==============================] - 0s 23ms/step\n",
            "1/1 [==============================] - 0s 24ms/step\n",
            "1/1 [==============================] - 0s 24ms/step\n",
            "1/1 [==============================] - 0s 23ms/step\n",
            "1/1 [==============================] - 0s 25ms/step\n",
            "1/1 [==============================] - 0s 24ms/step\n",
            "1/1 [==============================] - 0s 23ms/step\n",
            "1/1 [==============================] - 0s 23ms/step\n",
            "1/1 [==============================] - 0s 23ms/step\n",
            "1/1 [==============================] - 0s 23ms/step\n",
            "1/1 [==============================] - 0s 28ms/step\n",
            "1/1 [==============================] - 0s 21ms/step\n",
            "1/1 [==============================] - 0s 21ms/step\n"
          ]
        }
      ]
    },
    {
      "cell_type": "code",
      "source": [
        "new_predicted_price = sc.inverse_transform(np.array(new_predicted_price))\n",
        "print(new_predicted_price.shape)"
      ],
      "metadata": {
        "colab": {
          "base_uri": "https://localhost:8080/"
        },
        "id": "K11Fd8xMFYt8",
        "outputId": "d1ea6250-f3fb-49eb-d90f-886021fb2206"
      },
      "execution_count": null,
      "outputs": [
        {
          "output_type": "stream",
          "name": "stdout",
          "text": [
            "(100, 1)\n"
          ]
        }
      ]
    },
    {
      "cell_type": "code",
      "source": [
        "plt.plot(real_stock_price,color = 'red', label = 'Real Price')\n",
        "plt.plot(new_predicted_price, color = 'green', label = 'New Predicted Price')\n",
        "plt.title('NFLX Stock Price Prediction')\n",
        "plt.xlabel('Time')\n",
        "plt.ylabel('NFLX Stock Price')\n",
        "plt.xlim(0,100)\n",
        "plt.ylim(0,1200)\n",
        "plt.legend()\n",
        "plt.show()"
      ],
      "metadata": {
        "colab": {
          "base_uri": "https://localhost:8080/",
          "height": 472
        },
        "id": "Rm7JKYvmFa8P",
        "outputId": "17ba3b41-37a4-4e29-94ed-151aad5141bf"
      },
      "execution_count": null,
      "outputs": [
        {
          "output_type": "display_data",
          "data": {
            "text/plain": [
              "<Figure size 640x480 with 1 Axes>"
            ],
            "image/png": "[encoded data removed]"
          },
          "metadata": {}
        }
      ]
    }
  ]
}